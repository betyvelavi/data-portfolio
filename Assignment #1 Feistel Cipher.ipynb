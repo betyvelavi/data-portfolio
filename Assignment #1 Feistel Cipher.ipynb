{
 "cells": [
  {
   "cell_type": "markdown",
   "id": "fbc39cd8",
   "metadata": {},
   "source": [
    "# Assignment 1: Feistel Cipher\n",
    "\n",
    "### by: Beatriz Vela (0451080) \n",
    "\n",
    "Feistel Cypher structure was designed by Horst Feistel, it is an encryption algorithm that has a symmetrical structure, can be invertible, uses the same encryption and decryption algorithms, and was used to develop many DES models. \n",
    "\n",
    "## Encryption\n",
    "\n",
    "Like any encryption algorithm, a Feistel structure will take a plain text and encrypt the message contained between it. That is, to make it unreadable unless the key is known. It is important to note that the operations in which Feistel Cipher is done are performed in machine language: binary. \n",
    "\n",
    "The following is needed to do encryption and decryption using a Feistel structure: a plain text message, a key $K_i$, and a Feistel Function $F(R_i, K_i)$. For this assignment the Feistel Function is given by: \n",
    "\n",
    "$$\n",
    "F(R_i, K_i) = R_i*K_i\n",
    "$$\n",
    "where:\n",
    "\n",
    "$R_i:$ right half block in the i-th iteration\n",
    "\n",
    "$K_i:$ i-th single bit from original key \n",
    "\n",
    "which corresponds to AND or binary multiplication. The rules of binary multiplication are shown in the table below: \n",
    "\n",
    "| A x B | Product |\n",
    "|:----: | :----:  |\n",
    "|0x0 = |0|\n",
    "|0x1 = |0|\n",
    "|1x0 = |0|\n",
    "|1x1 = |1|\n",
    "\n",
    "\n",
    "The following steps draw some insight on how the Feistel Structure works. \n",
    "\n",
    "1. At the start of the algorithm, a plain text will be converted to binary using an ASCII table. The plain text will be processed on 64 bits (8-bytes) blocks. It will be separated into two: a left half block $L_0$ and a right half block $R_0$. \n",
    "2. In the first round $R_0$ will be multiplied by the first generated key: $K_0$ which be of length 32 bits (4-bytes) generating the Feistel Function $F_0$ given by this Assignment. \n",
    "3. Then, $F_0$ will $\\oplus$ with the left half block $L_0$. The table below shows a truth table for the operation $A \\oplus B$.\n",
    "\n",
    "| A $\\oplus$ B | Product |\n",
    "|:----: | :----:  |\n",
    "|0 $\\oplus$ 0|0|\n",
    "|0 $\\oplus$ 1|1|\n",
    "|1 $\\oplus$ 0|1|\n",
    "|1 $\\oplus$ 1|0|\n",
    "\n",
    "4. The product of $F_0 \\oplus L_0$ will create the right half block $R_1$ for the second round, and the left half block $L_1$ will simply be the same as $R_0$. \n",
    "5. As the number of rounds increases, steps 2 - 4 will be repeated. At the end of the encryption algorithm the left and right half blocks do a final swap, convert binary to ASCII and the encrypted text will be revealed. \n",
    "\n",
    "Thus, after the first round we will have that: \n",
    "\\begin{gather*}\n",
    "L_1 = R_0 \\\\\n",
    "R_1 = L_0\\oplus F(R_0,K_0)\n",
    "\\end{gather*}\n",
    "\n",
    "For second round: \n",
    "\\begin{gather*}\n",
    "L_2 = R_1 \\\\\n",
    "R_2 = L_1 \\oplus F(R_1,K_1)\n",
    "\\end{gather*}\n",
    "\n",
    "## Decryption: \n",
    "\n",
    "For the decryption process, the Feistel cipher uses reverse engineering using the same keys that were used for the encryption algorithm. \n",
    "\n",
    "Starting from the last round up we have that to decrypt we have that the initial conditions are: \n",
    "\\begin{gather*}\n",
    "L_3 = L_2 \\\\\n",
    "R_3 = R_2\n",
    "\\end{gather*}\n",
    "\n",
    "The first and second round of decryption go as follows: \n",
    "\n",
    "First round of decryption: \n",
    "\\begin{gather*}\n",
    "R_4 = L_3 \\\\\n",
    "L_4 = R_3 \\oplus F(L_3,K_1)\n",
    "\\end{gather*}\n",
    "\n",
    "Second round of decryption: \n",
    "\\begin{gather*}\n",
    "R_5 = L_4 \\\\\n",
    "L_5 = R_4 \\oplus F(L_4,K_0)\n",
    "\\end{gather*}\n",
    "\n",
    "To get the plain text $L_5 + R_5$ and convert from binary to ASCII. "
   ]
  },
  {
   "cell_type": "markdown",
   "id": "fb9f65f9",
   "metadata": {},
   "source": [
    "## Code \n",
    "\n",
    "Python 3.9.16 will be used for the completion of this assignment. \n",
    "\n",
    "First, we will start by importing the necessary libraries and generating the necessary functions that will be called for the Feistel Algorithm. The library `random` to help us generate the keys for the Feistel Algorithm. "
   ]
  },
  {
   "cell_type": "code",
   "execution_count": 1,
   "id": "bdee3ff6",
   "metadata": {},
   "outputs": [],
   "source": [
    "import random "
   ]
  },
  {
   "cell_type": "markdown",
   "id": "4c76032c",
   "metadata": {},
   "source": [
    "### Key Generation $K_i$:\n",
    "\n",
    "The function `key_generator` with argument `p` is defined. By using `random.randint(a,b)` from `random` library it is ensured that only random combinations of binary numbers (0's and 1's) are generated for the keys $K_i$."
   ]
  },
  {
   "cell_type": "code",
   "execution_count": 2,
   "id": "3bdb2672",
   "metadata": {},
   "outputs": [],
   "source": [
    "#Key generation \n",
    "def key_generator(p):\n",
    "    k_1 = \"\"  #empty string \n",
    "    p = int(p) #makes sure p is taken as an integer \n",
    "    \n",
    "    for i in range (p):    \n",
    "        tmp =  random.randint(0,1) #makes sure to ONLY take integers between 0 and 1\n",
    "        tmp = str(tmp) #makes sure they're stored as a string of 0s and 1s\n",
    "        k_1 = k_1 + tmp \n",
    "        \n",
    "    return(k_1)"
   ]
  },
  {
   "cell_type": "markdown",
   "id": "06982eda",
   "metadata": {},
   "source": [
    "### The Feistel Function $F_i(R_i, K_i)$:\n",
    "\n",
    "As discussed previously, Feistel Functions can take different forms. For this assignment, it takes the form of binary multiplication. Below, the function `feistel_f(a,b)` is created and will be called to do the binary multiplication of the half blocks $R_i, L_i$ by the randomly generated key $K_i$. \n",
    "\n",
    "Referencing to the table of binary multiplication, it can be inferred that all possible binary combinations are equal to 0 unless both numbers multiplied are 1. Using this knowledge, the function was designed to add and assign 1 to the string only if `a[i]` and `b[i]` are equal to each other and equal to `1`. "
   ]
  },
  {
   "cell_type": "code",
   "execution_count": 3,
   "id": "e7ca38d6",
   "metadata": {},
   "outputs": [],
   "source": [
    "#Feistel Function\n",
    "#Function given for this problem is the same as AND or Binary Multiplication\n",
    "def feistel_f(a,b):\n",
    "    tmp = \"\" #empty string to store results\n",
    "    \n",
    "    for i in range(n):\n",
    "        \n",
    "        if (a[i]==b[i]==\"1\"):\n",
    "            tmp += \"1\"\n",
    "        \n",
    "        else:\n",
    "            tmp += \"0\" # 1/1 situation is left which is = 1 \n",
    "    return tmp            "
   ]
  },
  {
   "cell_type": "markdown",
   "id": "224bbee4",
   "metadata": {},
   "source": [
    "### XOR \n",
    "\n",
    "The function `xor(a,b)` is defined to perform the $\\oplus$ operation of the Feistel Function $F_i$ by the left half block $L_i$ in encryption and the right half block $R_i$ in decryption. Referring to the table showing $A \\oplus B$ operations the function was programmed to reflect that when `a[i]` and `b[i]` are equal to each other the operation is equal to 0, and in all other instances it is equal to 1. `xor(a,b)` will go through every position in the strings `a[i]` and `b[i]` and compare it to each other. If they are equal, it will add and assign a 0. Otherwise, it will assign a 1."
   ]
  },
  {
   "cell_type": "code",
   "execution_count": 4,
   "id": "b6177071",
   "metadata": {},
   "outputs": [],
   "source": [
    "#XOR \n",
    "def xor(a,b):\n",
    "    tmp = \"\"\n",
    "    \n",
    "    for i in range(n):\n",
    "        \n",
    "        if (a[i]==b[i]): #checks that bin num are equal \n",
    "            tmp += \"0\" #adds and assigns 0 if true\n",
    "            \n",
    "        else: \n",
    "            tmp += \"1\" #if bin nums are not equal then they will be 1 \n",
    "    return tmp"
   ]
  },
  {
   "cell_type": "markdown",
   "id": "b3480b00",
   "metadata": {},
   "source": [
    "### Binary to Decimal Function\n",
    "`bintodec(binary)` will take a string of binary numbers and convert them to decimal. This will allow to later use `chr()` and get the Unicode character associated to the decimal. "
   ]
  },
  {
   "cell_type": "code",
   "execution_count": 5,
   "id": "8cb8a780",
   "metadata": {},
   "outputs": [],
   "source": [
    "#Binary to Decimal Function \n",
    "def bintodec(binary):\n",
    "    string = int(binary,2)\n",
    "    \n",
    "    return string    "
   ]
  },
  {
   "cell_type": "markdown",
   "id": "a480458a",
   "metadata": {},
   "source": [
    "### Plain Text and Conversion to Machine Language\n",
    "\n",
    "First, we will get the plain text that we want to encrypt. \n",
    "\n",
    "Then, we will convert it to ASCII. Using the `ord()` function, Python will iterate through each position in the string and return the Unicode for the given character. \n",
    "\n",
    "To convert the Unicode to binary, `format(y, '08b')` will be used. `08b` allows to keep the sizes to 8 bits and leading 0.s. This format permits to take the integer number given by the Unicode and convert it to binary. Since we are dealing with several Unicode that were formally part of the plain text, we will join the collection of binary numbers using the function `.join()`.\n",
    "\n",
    "A breakdown of this step can be seen below: "
   ]
  },
  {
   "cell_type": "code",
   "execution_count": 6,
   "id": "ab25b3ee",
   "metadata": {
    "scrolled": true
   },
   "outputs": [
    {
     "name": "stdout",
     "output_type": "stream",
     "text": [
      "Enter the text you want to encrypt: This is a test.\n"
     ]
    }
   ],
   "source": [
    "p_txt = input(\"Enter the text you want to encrypt: \")\n",
    "plain_txt = p_txt\n"
   ]
  },
  {
   "cell_type": "code",
   "execution_count": 7,
   "id": "ca0dee35",
   "metadata": {},
   "outputs": [
    {
     "name": "stdout",
     "output_type": "stream",
     "text": [
      "The unicode of the given character is:  [84, 104, 105, 115, 32, 105, 115, 32, 97, 32, 116, 101, 115, 116, 46]\n",
      "Binary calculated from unicode is:  010101000110100001101001011100110010000001101001011100110010000001100001001000000111010001100101011100110111010000101110\n"
     ]
    }
   ],
   "source": [
    "#Converting txt to ASCII\n",
    "#ord function returns unicode for each character in x \n",
    "#this [] creates a list \n",
    "ptxt_ascii = [ord(x) for x in plain_txt]\n",
    "\n",
    "#ASCII to Binary \n",
    "#08b converts to binary keeping leading zeroes in 8 bits size \n",
    "ptxt_binary = [format(y, '08b') for y in ptxt_ascii]\n",
    "#.join will take all items in iterable above and join then into one string \n",
    "ptxt_binary = \"\".join(ptxt_binary)\n",
    "\n",
    "print(\"The unicode of the given character is: \", ptxt_ascii)\n",
    "print(\"Binary calculated from unicode is: \", ptxt_binary)"
   ]
  },
  {
   "cell_type": "markdown",
   "id": "1a19b449",
   "metadata": {},
   "source": [
    "### Feistel Algorithm \n",
    "Now, we will start with the Feistel Algorithm. First, we will take the string of binary `ptxt_binary` and divide it in two. For Feistel Algorithm purposes, this will be stored in `b_raw` code for the raw data converted in binary.  "
   ]
  },
  {
   "cell_type": "code",
   "execution_count": 8,
   "id": "819f7282",
   "metadata": {},
   "outputs": [
    {
     "name": "stdout",
     "output_type": "stream",
     "text": [
      "The length of each half block is:  60\n",
      "Left half block L0 is:  010101000110100001101001011100110010000001101001011100110010\n",
      "Right half block R0 is:  000001100001001000000111010001100101011100110111010000101110\n"
     ]
    }
   ],
   "source": [
    "#Feistel Algorithm \n",
    "b_raw = int(len(ptxt_binary)//2)\n",
    "# : will slice the string from index 0 to b_raw and then b_raw to end \n",
    "L0 = ptxt_binary[0:b_raw]\n",
    "R0 = ptxt_binary[b_raw::]\n",
    "#length of n \n",
    "n = len(R0)\n",
    "\n",
    "print(\"The length of each half block is: \", b_raw)\n",
    "print(\"Left half block L0 is: \", L0)\n",
    "print(\"Right half block R0 is: \", R0)\n"
   ]
  },
  {
   "cell_type": "markdown",
   "id": "7f0bb24d",
   "metadata": {},
   "source": [
    "Now, `key_generator()` function that was created earlier will be called to create the random keys $K_0$ and $K_1$."
   ]
  },
  {
   "cell_type": "code",
   "execution_count": 9,
   "id": "18094688",
   "metadata": {},
   "outputs": [
    {
     "name": "stdout",
     "output_type": "stream",
     "text": [
      "Random Key 1 (K0) is:  110101010011011011100011010001010110101000010011110011010111\n",
      "Random Key 2 (K1) is:  011101001110110110011001011110110101110010110001001101010100\n"
     ]
    }
   ],
   "source": [
    "#Generating Keys using key_generator function \n",
    "\n",
    "#Key 1 (1st Round)\n",
    "K0 = key_generator(n)\n",
    "\n",
    "#Key 2 (2nd Round)\n",
    "K1 = key_generator(n)\n",
    "\n",
    "print(\"Random Key 1 (K0) is: \", K0)\n",
    "print(\"Random Key 2 (K1) is: \", K1)"
   ]
  },
  {
   "cell_type": "markdown",
   "id": "2824296b",
   "metadata": {},
   "source": [
    "Now, the functions `feistel_f(a,b)` and `xor(a,b)` created earlier will be used for the following rounds of Feistel Cipher. For the first round, the right half block $R_0$ will be multiplied by the first key $K_0$ using `feistel_f(a,b)` to get the Feistel Function $F_0$. Then, the Feistel Function $F_0$ will XOR with the left half block $L_0$ using `xor(a,b)`. This will create the right and half blocks the next round. "
   ]
  },
  {
   "cell_type": "code",
   "execution_count": 10,
   "id": "79410aa7",
   "metadata": {},
   "outputs": [
    {
     "name": "stdout",
     "output_type": "stream",
     "text": [
      "F0 :  000001000001001000000011010001000100001000010011010000000110\n",
      "XOR:  110101010011011011100011010001010110101000010011110011010111\n",
      "Left half block for next round is:  000001100001001000000111010001100101011100110111010000101110\n",
      "Right half block for next round is:  010100000111101001101010001101110110001001111010001100110100\n"
     ]
    }
   ],
   "source": [
    "#First Round of Feistel Cipher \n",
    "F0 = feistel_f(R0,K0)\n",
    "R1 = xor(F0,L0)\n",
    "L1 = R0\n",
    "\n",
    "print(\"F0 : \", F0)\n",
    "print(\"XOR: \", K0)\n",
    "print(\"Left half block for next round is: \", L1)\n",
    "print(\"Right half block for next round is: \", R1)"
   ]
  },
  {
   "cell_type": "markdown",
   "id": "3b53ff17",
   "metadata": {},
   "source": [
    "For the second round, the right half block $R_1$ will be multiplied by the key $K_1$ using `feistel_f(a,b)` to get the Feistel Function $F_1$. Then, the Feistel Function $F_1$ will XOR with the left half block $L_1$ using `xor(a,b)`. This will create the right and half blocks the next round (decryption). "
   ]
  },
  {
   "cell_type": "code",
   "execution_count": 11,
   "id": "9b875fd6",
   "metadata": {},
   "outputs": [
    {
     "name": "stdout",
     "output_type": "stream",
     "text": [
      "F1 :  010100000110100000001000001100110100000000110000001100010100\n",
      "XOR:  010101100111101000001111011101010001011100000111011100111010\n",
      "Left half block for next round is:  010100000111101001101010001101110110001001111010001100110100\n",
      "Right half block for next round is:  010101100111101000001111011101010001011100000111011100111010\n"
     ]
    }
   ],
   "source": [
    "#Second Round of Feistel\n",
    "F1 = feistel_f(R1,K1)\n",
    "R2 = xor(F1,L1)\n",
    "L2 = R1\n",
    "\n",
    "print(\"F1 : \", F1)\n",
    "print(\"XOR: \", R2)\n",
    "print(\"Left half block for next round is: \", L2)\n",
    "print(\"Right half block for next round is: \", R2)"
   ]
  },
  {
   "cell_type": "markdown",
   "id": "8d180773",
   "metadata": {},
   "source": [
    "To get the cipher text, $L_2$ and $R_2$ will be added and then converted from binary to cipher text using 8 bit intervals, the `bintodec(binary)` function created earlier to get the decimal number associated to the binary, and then `chr()` to get the Unicode character associated to the decimal. "
   ]
  },
  {
   "cell_type": "code",
   "execution_count": 12,
   "id": "29e2a90a",
   "metadata": {},
   "outputs": [
    {
     "name": "stdout",
     "output_type": "stream",
     "text": [
      "The cipher text is : Pzj7bz3Eg ÷Qpw:\n"
     ]
    }
   ],
   "source": [
    "#Cipher text \n",
    "b_txt = L2 + R2\n",
    "\n",
    "str_txt = ''\n",
    "\n",
    "for i in range(0, len(b_txt), 8):\n",
    "    tmp_data = b_txt[i:i + 8]    \n",
    "    dec_txt = bintodec(tmp_data)\n",
    "    str_txt = str_txt + chr(dec_txt)\n",
    "    \n",
    "print(\"The cipher text is :\", str_txt)"
   ]
  },
  {
   "cell_type": "markdown",
   "id": "f935224f",
   "metadata": {},
   "source": [
    "### Decryption \n",
    "\n",
    "Decryption for Feistel Cipher uses the same keys used for encryption and reverse engineering which goes as follows. \n",
    "\n",
    "For the first round of the decryption, the left half block $L_3$ will be multiplied by the last key $K_1$ using `feistel_f(a,b)` to get the Feistel Function $F_2$. Then, the Feistel Function $F_2$ will XOR with the right half block $R_3$ using `xor(a,b)`. This will create the right and half blocks the next round."
   ]
  },
  {
   "cell_type": "code",
   "execution_count": 13,
   "id": "d4355705",
   "metadata": {},
   "outputs": [
    {
     "name": "stdout",
     "output_type": "stream",
     "text": [
      "F2 :  010100000110100000001000001100110100000000110000001100010100\n",
      "XOR:  010101000110100001101001011100110010000001101001011100110010\n",
      "Left half block for next round is:  000001100001001000000111010001100101011100110111010000101110\n",
      "Right half block for next round is:  010100000111101001101010001101110110001001111010001100110100\n"
     ]
    }
   ],
   "source": [
    "#Decryption\n",
    "\n",
    "#initial conditions\n",
    "L3 = L2\n",
    "R3 = R2\n",
    "\n",
    "#Decryption Round 1 \n",
    "F2 = feistel_f(L3,K1)\n",
    "L4 = xor(R3,F2)\n",
    "R4 = L3 \n",
    "\n",
    "print(\"F2 : \", F2)\n",
    "print(\"XOR: \", L0)\n",
    "print(\"Left half block for next round is: \", L4)\n",
    "print(\"Right half block for next round is: \", R4)"
   ]
  },
  {
   "cell_type": "markdown",
   "id": "32e041b4",
   "metadata": {},
   "source": [
    "For the second round of the decryption, the left half block $L_4$ will be multiplied by the first key $K_0$ using `feistel_f(a,b)` to get the Feistel Function $F_3$. Then, the Feistel Function $F_3$ will XOR with the right half block $R_4$ using `xor(a,b)`. Retrieved plain text will be obtained by adding the two half blocks $L_5 + R_5$"
   ]
  },
  {
   "cell_type": "code",
   "execution_count": 14,
   "id": "17923e6c",
   "metadata": {},
   "outputs": [
    {
     "name": "stdout",
     "output_type": "stream",
     "text": [
      "F3 :  000001000001001000000011010001000100001000010011010000000110\n",
      "XOR:  010101000110100001101001011100110010000001101001011100110010\n",
      "Binary retrieved plain text is:  010101000110100001101001011100110010000001101001011100110010000001100001001000000111010001100101011100110111010000101110\n"
     ]
    }
   ],
   "source": [
    "#Decryption Round 2\n",
    "F3 = feistel_f(L4, K0)\n",
    "L5 = xor(R4,F3)\n",
    "R5 = L4\n",
    "ptxt = L5 + R5\n",
    "\n",
    "print(\"F3 : \", F3)\n",
    "print(\"XOR: \", L5)\n",
    "print(\"Binary retrieved plain text is: \", ptxt)"
   ]
  },
  {
   "cell_type": "markdown",
   "id": "d48d2615",
   "metadata": {},
   "source": [
    "To retrieve the plain text, $L_5$ and $R_5$ will be added and then converted from binary to cipher text using 8 bit intervals, the `bintodec(binary)` function created earlier to get the decimal number associated to the binary, and then `chr()` to get the Unicode character associated to the decimal. "
   ]
  },
  {
   "cell_type": "code",
   "execution_count": 15,
   "id": "1956fea9",
   "metadata": {},
   "outputs": [
    {
     "name": "stdout",
     "output_type": "stream",
     "text": [
      "The retrieved plain text is:  This is a test.\n"
     ]
    }
   ],
   "source": [
    "str_txt1 = ''\n",
    "\n",
    "for i in range(0, len(ptxt),8):\n",
    "    tmp_data1 = ptxt[i:i + 8]\n",
    "    dec_txt1 = bintodec(tmp_data1)\n",
    "    str_txt1 = str_txt1 + chr(dec_txt1)\n",
    "    \n",
    "print(\"The retrieved plain text is: \", str_txt1)"
   ]
  },
  {
   "cell_type": "markdown",
   "id": "d8cde362",
   "metadata": {},
   "source": [
    "Now as a summarized final report we have: \n"
   ]
  },
  {
   "cell_type": "code",
   "execution_count": 16,
   "id": "1d88747e",
   "metadata": {},
   "outputs": [
    {
     "name": "stdout",
     "output_type": "stream",
     "text": [
      "The plain text you want to encrypt is:  This is a test.\n",
      "The cipher text is : Pzj7bz3Eg ÷Qpw:\n",
      "The retrieved plain text is:  This is a test.\n"
     ]
    }
   ],
   "source": [
    "print(\"The plain text you want to encrypt is: \", plain_txt)\n",
    "print(\"The cipher text is :\", str_txt)\n",
    "print(\"The retrieved plain text is: \", str_txt1)"
   ]
  }
 ],
 "metadata": {
  "kernelspec": {
   "display_name": "Python 3 (ipykernel)",
   "language": "python",
   "name": "python3"
  },
  "language_info": {
   "codemirror_mode": {
    "name": "ipython",
    "version": 3
   },
   "file_extension": ".py",
   "mimetype": "text/x-python",
   "name": "python",
   "nbconvert_exporter": "python",
   "pygments_lexer": "ipython3",
   "version": "3.9.7"
  }
 },
 "nbformat": 4,
 "nbformat_minor": 5
}
